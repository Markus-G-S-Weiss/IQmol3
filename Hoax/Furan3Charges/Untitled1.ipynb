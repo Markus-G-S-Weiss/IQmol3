{
 "cells": [
  {
   "cell_type": "code",
   "execution_count": 1,
   "id": "c146883b",
   "metadata": {},
   "outputs": [],
   "source": [
    "import tables as tb\n",
    "import numpy as np\n",
    "\n",
    "class NeuralNetworkRun(tb.IsDescription):\n",
    "    idNumber  = tb.Int64Col()\n",
    "    hiddenLayers = tb.Int64Col()\n",
    "    nodesPerLayer = tb.Int64Col()\n",
    "    batchsize = tb.Int64Col()\n",
    "    learningRate = tb.Float32Col()\n",
    "    validationError = tb.Float64Col(shape=(100,))\n",
    "    \n",
    "\n",
    "    "
   ]
  },
  {
   "cell_type": "code",
   "execution_count": 2,
   "id": "b9095b17",
   "metadata": {},
   "outputs": [],
   "source": [
    "filesaving = tb.open_file(\"hellyeah.h5\",mode=\"w\")\n",
    "root = filesaving.root\n",
    "group = filesaving.create_group(root,\"NeuralNetworkRun\")\n",
    "    \n",
    "gRuns = root.NeuralNetworkRun \n",
    "table = filesaving.create_table(\"/NeuralNetworkRun\",\"NeuralNetworkRun1\",NeuralNetworkRun,\"Runs:\"+\"NeuralNetworkRun1\")\n",
    "\n",
    "currentrun = table.row\n",
    "currentrun['idNumber'] = 1\n",
    "currentrun['hiddenLayers'] = 3\n",
    "currentrun['nodesPerLayer'] = 50\n",
    "currentrun['batchsize'] = 256\n",
    "currentrun['learningRate'] = 0.001\n",
    "currentrun['validationError'] = np.zeros(100,)\n",
    "\n",
    "currentrun.append()\n",
    "table.flush()\n",
    "\n",
    "currentrun = table.row\n",
    "currentrun['idNumber'] = 1\n",
    "currentrun['hiddenLayers'] = 3\n",
    "currentrun['nodesPerLayer'] = 50\n",
    "currentrun['batchsize'] = 256\n",
    "currentrun['learningRate'] = 0.001\n",
    "currentrun['validationError'] = np.zeros(100,)\n",
    "\n",
    "currentrun.append()\n",
    "table.flush()\n",
    "\n",
    "\n",
    "\n"
   ]
  },
  {
   "cell_type": "code",
   "execution_count": 3,
   "id": "812a8a0a",
   "metadata": {},
   "outputs": [
    {
     "name": "stdout",
     "output_type": "stream",
     "text": [
      "[array([0., 0., 0., 0., 0., 0., 0., 0., 0., 0., 0., 0., 0., 0., 0., 0., 0.,\n",
      "       0., 0., 0., 0., 0., 0., 0., 0., 0., 0., 0., 0., 0., 0., 0., 0., 0.,\n",
      "       0., 0., 0., 0., 0., 0., 0., 0., 0., 0., 0., 0., 0., 0., 0., 0., 0.,\n",
      "       0., 0., 0., 0., 0., 0., 0., 0., 0., 0., 0., 0., 0., 0., 0., 0., 0.,\n",
      "       0., 0., 0., 0., 0., 0., 0., 0., 0., 0., 0., 0., 0., 0., 0., 0., 0.,\n",
      "       0., 0., 0., 0., 0., 0., 0., 0., 0., 0., 0., 0., 0., 0., 0.]), array([0., 0., 0., 0., 0., 0., 0., 0., 0., 0., 0., 0., 0., 0., 0., 0., 0.,\n",
      "       0., 0., 0., 0., 0., 0., 0., 0., 0., 0., 0., 0., 0., 0., 0., 0., 0.,\n",
      "       0., 0., 0., 0., 0., 0., 0., 0., 0., 0., 0., 0., 0., 0., 0., 0., 0.,\n",
      "       0., 0., 0., 0., 0., 0., 0., 0., 0., 0., 0., 0., 0., 0., 0., 0., 0.,\n",
      "       0., 0., 0., 0., 0., 0., 0., 0., 0., 0., 0., 0., 0., 0., 0., 0., 0.,\n",
      "       0., 0., 0., 0., 0., 0., 0., 0., 0., 0., 0., 0., 0., 0., 0.])]\n"
     ]
    }
   ],
   "source": [
    "readout = root.NeuralNetworkRun.NeuralNetworkRun1\n",
    "\n",
    "column = [x['validationError'] for x in table.iterrows()]\n",
    "print(column)"
   ]
  },
  {
   "cell_type": "code",
   "execution_count": 4,
   "id": "6824cdef",
   "metadata": {},
   "outputs": [
    {
     "data": {
      "text/plain": [
       "/NeuralNetworkRun/NeuralNetworkRun1 (Table(2,)) 'Runs:NeuralNetworkRun1'\n",
       "  description := {\n",
       "  \"batchsize\": Int64Col(shape=(), dflt=0, pos=0),\n",
       "  \"hiddenLayers\": Int64Col(shape=(), dflt=0, pos=1),\n",
       "  \"idNumber\": Int64Col(shape=(), dflt=0, pos=2),\n",
       "  \"learningRate\": Float32Col(shape=(), dflt=0.0, pos=3),\n",
       "  \"nodesPerLayer\": Int64Col(shape=(), dflt=0, pos=4),\n",
       "  \"validationError\": Float64Col(shape=(100,), dflt=0.0, pos=5)}\n",
       "  byteorder := 'little'\n",
       "  chunkshape := (78,)"
      ]
     },
     "execution_count": 4,
     "metadata": {},
     "output_type": "execute_result"
    }
   ],
   "source": [
    "readout"
   ]
  },
  {
   "cell_type": "code",
   "execution_count": null,
   "id": "a7e211ce",
   "metadata": {},
   "outputs": [],
   "source": []
  }
 ],
 "metadata": {
  "kernelspec": {
   "display_name": "Python 3",
   "language": "python",
   "name": "python3"
  },
  "language_info": {
   "codemirror_mode": {
    "name": "ipython",
    "version": 3
   },
   "file_extension": ".py",
   "mimetype": "text/x-python",
   "name": "python",
   "nbconvert_exporter": "python",
   "pygments_lexer": "ipython3",
   "version": "3.8.8"
  }
 },
 "nbformat": 4,
 "nbformat_minor": 5
}
